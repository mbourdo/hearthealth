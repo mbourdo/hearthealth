{
 "cells": [
  {
   "cell_type": "markdown",
   "id": "a8ab9d9e",
   "metadata": {},
   "source": [
    "## 0. Setup \n",
    "- Imports Python libraries for data work, modeling, and plotting.\n",
    "- Sets a random seed so results are repeatable.\n",
    "- Creates folders to save figures and models."
   ]
  },
  {
   "cell_type": "code",
   "execution_count": 37,
   "id": "48791f29",
   "metadata": {},
   "outputs": [],
   "source": [
    "# 0. Setup\n",
    "import os\n",
    "import numpy as np\n",
    "import pandas as pd\n",
    "import matplotlib.pyplot as plt\n",
    "\n",
    "from pathlib import Path\n",
    "from sklearn.model_selection import train_test_split\n",
    "from sklearn.preprocessing import StandardScaler\n",
    "from sklearn.linear_model import LogisticRegression\n",
    "from sklearn.ensemble import RandomForestClassifier\n",
    "from sklearn.metrics import classification_report, roc_auc_score, RocCurveDisplay, confusion_matrix\n",
    "\n",
    "# Create folders if they do not exist\n",
    "Path(\"results/figures\").mkdir(parents=True, exist_ok=True)\n",
    "Path(\"results/models\").mkdir(parents=True, exist_ok=True)\n",
    "\n",
    "pd.set_option(\"display.max_columns\", None)\n",
    "RANDOM_STATE = 42"
   ]
  },
  {
   "cell_type": "markdown",
   "id": "89742157",
   "metadata": {},
   "source": [
    "## 1. Load Data \n",
    "- Loads the heart dataset from `../data/heart.csv`.\n",
    "- Prints the shape and a preview to confirm we loaded what we expect."
   ]
  },
  {
   "cell_type": "code",
   "execution_count": 38,
   "id": "8539fe93",
   "metadata": {},
   "outputs": [
    {
     "name": "stdout",
     "output_type": "stream",
     "text": [
      "Shape: (1025, 14)\n"
     ]
    },
    {
     "data": {
      "text/html": [
       "<div>\n",
       "<style scoped>\n",
       "    .dataframe tbody tr th:only-of-type {\n",
       "        vertical-align: middle;\n",
       "    }\n",
       "\n",
       "    .dataframe tbody tr th {\n",
       "        vertical-align: top;\n",
       "    }\n",
       "\n",
       "    .dataframe thead th {\n",
       "        text-align: right;\n",
       "    }\n",
       "</style>\n",
       "<table border=\"1\" class=\"dataframe\">\n",
       "  <thead>\n",
       "    <tr style=\"text-align: right;\">\n",
       "      <th></th>\n",
       "      <th>age</th>\n",
       "      <th>sex</th>\n",
       "      <th>cp</th>\n",
       "      <th>trestbps</th>\n",
       "      <th>chol</th>\n",
       "      <th>fbs</th>\n",
       "      <th>restecg</th>\n",
       "      <th>thalach</th>\n",
       "      <th>exang</th>\n",
       "      <th>oldpeak</th>\n",
       "      <th>slope</th>\n",
       "      <th>ca</th>\n",
       "      <th>thal</th>\n",
       "      <th>target</th>\n",
       "    </tr>\n",
       "  </thead>\n",
       "  <tbody>\n",
       "    <tr>\n",
       "      <th>0</th>\n",
       "      <td>52</td>\n",
       "      <td>1</td>\n",
       "      <td>0</td>\n",
       "      <td>125</td>\n",
       "      <td>212</td>\n",
       "      <td>0</td>\n",
       "      <td>1</td>\n",
       "      <td>168</td>\n",
       "      <td>0</td>\n",
       "      <td>1.0</td>\n",
       "      <td>2</td>\n",
       "      <td>2</td>\n",
       "      <td>3</td>\n",
       "      <td>0</td>\n",
       "    </tr>\n",
       "    <tr>\n",
       "      <th>1</th>\n",
       "      <td>53</td>\n",
       "      <td>1</td>\n",
       "      <td>0</td>\n",
       "      <td>140</td>\n",
       "      <td>203</td>\n",
       "      <td>1</td>\n",
       "      <td>0</td>\n",
       "      <td>155</td>\n",
       "      <td>1</td>\n",
       "      <td>3.1</td>\n",
       "      <td>0</td>\n",
       "      <td>0</td>\n",
       "      <td>3</td>\n",
       "      <td>0</td>\n",
       "    </tr>\n",
       "    <tr>\n",
       "      <th>2</th>\n",
       "      <td>70</td>\n",
       "      <td>1</td>\n",
       "      <td>0</td>\n",
       "      <td>145</td>\n",
       "      <td>174</td>\n",
       "      <td>0</td>\n",
       "      <td>1</td>\n",
       "      <td>125</td>\n",
       "      <td>1</td>\n",
       "      <td>2.6</td>\n",
       "      <td>0</td>\n",
       "      <td>0</td>\n",
       "      <td>3</td>\n",
       "      <td>0</td>\n",
       "    </tr>\n",
       "    <tr>\n",
       "      <th>3</th>\n",
       "      <td>61</td>\n",
       "      <td>1</td>\n",
       "      <td>0</td>\n",
       "      <td>148</td>\n",
       "      <td>203</td>\n",
       "      <td>0</td>\n",
       "      <td>1</td>\n",
       "      <td>161</td>\n",
       "      <td>0</td>\n",
       "      <td>0.0</td>\n",
       "      <td>2</td>\n",
       "      <td>1</td>\n",
       "      <td>3</td>\n",
       "      <td>0</td>\n",
       "    </tr>\n",
       "    <tr>\n",
       "      <th>4</th>\n",
       "      <td>62</td>\n",
       "      <td>0</td>\n",
       "      <td>0</td>\n",
       "      <td>138</td>\n",
       "      <td>294</td>\n",
       "      <td>1</td>\n",
       "      <td>1</td>\n",
       "      <td>106</td>\n",
       "      <td>0</td>\n",
       "      <td>1.9</td>\n",
       "      <td>1</td>\n",
       "      <td>3</td>\n",
       "      <td>2</td>\n",
       "      <td>0</td>\n",
       "    </tr>\n",
       "  </tbody>\n",
       "</table>\n",
       "</div>"
      ],
      "text/plain": [
       "   age  sex  cp  trestbps  chol  fbs  restecg  thalach  exang  oldpeak  slope  \\\n",
       "0   52    1   0       125   212    0        1      168      0      1.0      2   \n",
       "1   53    1   0       140   203    1        0      155      1      3.1      0   \n",
       "2   70    1   0       145   174    0        1      125      1      2.6      0   \n",
       "3   61    1   0       148   203    0        1      161      0      0.0      2   \n",
       "4   62    0   0       138   294    1        1      106      0      1.9      1   \n",
       "\n",
       "   ca  thal  target  \n",
       "0   2     3       0  \n",
       "1   0     3       0  \n",
       "2   0     3       0  \n",
       "3   1     3       0  \n",
       "4   3     2       0  "
      ]
     },
     "execution_count": 38,
     "metadata": {},
     "output_type": "execute_result"
    }
   ],
   "source": [
    "# 1. Load data\n",
    "csv_path = \"../data/heart.csv\"   \n",
    "df = pd.read_csv(csv_path)\n",
    "\n",
    "print(\"Shape:\", df.shape)\n",
    "df.head()"
   ]
  },
  {
   "cell_type": "markdown",
   "id": "481c9160",
   "metadata": {},
   "source": [
    "## 2. Basic Cleanup \n",
    "- Converts common missing value markers to true NaN.\n",
    "- Lists missing values by column.\n",
    "- Prints column names to confirm expected fields exist.\n",
    "\n",
    "### Why it matters\n",
    "Models assume data is numeric and well defined. Converting placeholders to NaN lets us impute correctly later. Seeing the columns up front prevents errors when we reference a field like `sex` or `target`.\n"
   ]
  },
  {
   "cell_type": "code",
   "execution_count": 39,
   "id": "8c92d450",
   "metadata": {},
   "outputs": [
    {
     "name": "stdout",
     "output_type": "stream",
     "text": [
      "Columns: ['age', 'sex', 'cp', 'trestbps', 'chol', 'fbs', 'restecg', 'thalach', 'exang', 'oldpeak', 'slope', 'ca', 'thal', 'target']\n",
      "Missing values per column:\n",
      " age         0\n",
      "sex         0\n",
      "cp          0\n",
      "trestbps    0\n",
      "chol        0\n",
      "fbs         0\n",
      "restecg     0\n",
      "thalach     0\n",
      "exang       0\n",
      "oldpeak     0\n",
      "slope       0\n",
      "ca          0\n",
      "thal        0\n",
      "target      0\n",
      "dtype: int64\n"
     ]
    }
   ],
   "source": [
    "# 2. Basic cleanup\n",
    "# Convert common missing markers to NaN\n",
    "df = df.replace([\"?\", \"NA\", \"N/A\", \"na\", \"n/a\", \"\"], np.nan)\n",
    "\n",
    "print(\"Columns:\", list(df.columns))\n",
    "print(\"Missing values per column:\\n\", df.isna().sum().sort_values(ascending=False))"
   ]
  },
  {
   "cell_type": "markdown",
   "id": "0d5158c6",
   "metadata": {},
   "source": [
    "## 3. Keep only rows for women explanation\n",
    "- Filters the dataset to `sex == 0` which represents women in the Cleveland format.\n",
    "- Creates the working DataFrame `women`.\n",
    "\n",
    "### Why it matters\n",
    "Heart health is the leading cause of death for women in the U.S., despite being under-researched and under-diagnosed. \n",
    "\n",
    "This data analysis is to understand cardivasular risk in women. \n",
    "\n",
    "Cardiovascular risk can present differently in women. Building a women-only model avoids signal dilution from male-dominant patterns and produces insights that are specific to women’s heart health."
   ]
  },
  {
   "cell_type": "code",
   "execution_count": 40,
   "id": "c9093a57",
   "metadata": {},
   "outputs": [
    {
     "name": "stdout",
     "output_type": "stream",
     "text": [
      "Women subset shape: (312, 14)\n"
     ]
    },
    {
     "data": {
      "text/html": [
       "<div>\n",
       "<style scoped>\n",
       "    .dataframe tbody tr th:only-of-type {\n",
       "        vertical-align: middle;\n",
       "    }\n",
       "\n",
       "    .dataframe tbody tr th {\n",
       "        vertical-align: top;\n",
       "    }\n",
       "\n",
       "    .dataframe thead th {\n",
       "        text-align: right;\n",
       "    }\n",
       "</style>\n",
       "<table border=\"1\" class=\"dataframe\">\n",
       "  <thead>\n",
       "    <tr style=\"text-align: right;\">\n",
       "      <th></th>\n",
       "      <th>age</th>\n",
       "      <th>sex</th>\n",
       "      <th>cp</th>\n",
       "      <th>trestbps</th>\n",
       "      <th>chol</th>\n",
       "      <th>fbs</th>\n",
       "      <th>restecg</th>\n",
       "      <th>thalach</th>\n",
       "      <th>exang</th>\n",
       "      <th>oldpeak</th>\n",
       "      <th>slope</th>\n",
       "      <th>ca</th>\n",
       "      <th>thal</th>\n",
       "      <th>target</th>\n",
       "    </tr>\n",
       "  </thead>\n",
       "  <tbody>\n",
       "    <tr>\n",
       "      <th>4</th>\n",
       "      <td>62</td>\n",
       "      <td>0</td>\n",
       "      <td>0</td>\n",
       "      <td>138</td>\n",
       "      <td>294</td>\n",
       "      <td>1</td>\n",
       "      <td>1</td>\n",
       "      <td>106</td>\n",
       "      <td>0</td>\n",
       "      <td>1.9</td>\n",
       "      <td>1</td>\n",
       "      <td>3</td>\n",
       "      <td>2</td>\n",
       "      <td>0</td>\n",
       "    </tr>\n",
       "    <tr>\n",
       "      <th>5</th>\n",
       "      <td>58</td>\n",
       "      <td>0</td>\n",
       "      <td>0</td>\n",
       "      <td>100</td>\n",
       "      <td>248</td>\n",
       "      <td>0</td>\n",
       "      <td>0</td>\n",
       "      <td>122</td>\n",
       "      <td>0</td>\n",
       "      <td>1.0</td>\n",
       "      <td>1</td>\n",
       "      <td>0</td>\n",
       "      <td>2</td>\n",
       "      <td>1</td>\n",
       "    </tr>\n",
       "    <tr>\n",
       "      <th>10</th>\n",
       "      <td>71</td>\n",
       "      <td>0</td>\n",
       "      <td>0</td>\n",
       "      <td>112</td>\n",
       "      <td>149</td>\n",
       "      <td>0</td>\n",
       "      <td>1</td>\n",
       "      <td>125</td>\n",
       "      <td>0</td>\n",
       "      <td>1.6</td>\n",
       "      <td>1</td>\n",
       "      <td>0</td>\n",
       "      <td>2</td>\n",
       "      <td>1</td>\n",
       "    </tr>\n",
       "    <tr>\n",
       "      <th>11</th>\n",
       "      <td>43</td>\n",
       "      <td>0</td>\n",
       "      <td>0</td>\n",
       "      <td>132</td>\n",
       "      <td>341</td>\n",
       "      <td>1</td>\n",
       "      <td>0</td>\n",
       "      <td>136</td>\n",
       "      <td>1</td>\n",
       "      <td>3.0</td>\n",
       "      <td>1</td>\n",
       "      <td>0</td>\n",
       "      <td>3</td>\n",
       "      <td>0</td>\n",
       "    </tr>\n",
       "    <tr>\n",
       "      <th>12</th>\n",
       "      <td>34</td>\n",
       "      <td>0</td>\n",
       "      <td>1</td>\n",
       "      <td>118</td>\n",
       "      <td>210</td>\n",
       "      <td>0</td>\n",
       "      <td>1</td>\n",
       "      <td>192</td>\n",
       "      <td>0</td>\n",
       "      <td>0.7</td>\n",
       "      <td>2</td>\n",
       "      <td>0</td>\n",
       "      <td>2</td>\n",
       "      <td>1</td>\n",
       "    </tr>\n",
       "  </tbody>\n",
       "</table>\n",
       "</div>"
      ],
      "text/plain": [
       "    age  sex  cp  trestbps  chol  fbs  restecg  thalach  exang  oldpeak  \\\n",
       "4    62    0   0       138   294    1        1      106      0      1.9   \n",
       "5    58    0   0       100   248    0        0      122      0      1.0   \n",
       "10   71    0   0       112   149    0        1      125      0      1.6   \n",
       "11   43    0   0       132   341    1        0      136      1      3.0   \n",
       "12   34    0   1       118   210    0        1      192      0      0.7   \n",
       "\n",
       "    slope  ca  thal  target  \n",
       "4       1   3     2       0  \n",
       "5       1   0     2       1  \n",
       "10      1   0     2       1  \n",
       "11      1   0     3       0  \n",
       "12      2   0     2       1  "
      ]
     },
     "execution_count": 40,
     "metadata": {},
     "output_type": "execute_result"
    }
   ],
   "source": [
    "# 3. Keep only rows for women\n",
    "# Cleveland format uses sex: 1 male, 0 female\n",
    "if \"sex\" not in df.columns:\n",
    "    raise ValueError(\"Expected a 'sex' column in the CSV.\")\n",
    "\n",
    "women = df[df[\"sex\"] == 0].copy()\n",
    "print(\"Women subset shape:\", women.shape)\n",
    "women.head()"
   ]
  },
  {
   "cell_type": "markdown",
   "id": "a54570da",
   "metadata": {},
   "source": [
    "## 4. Target distribution for women\n",
    "- Shows the count of `target = 0` (no disease) vs `target = 1` (disease) for women.\n",
    "- Saves a bar chart to `../results/figures/target_distribution_women.png`.\n",
    "\n",
    "### Why it matters\n",
    "When one class dominates, a naive model can look good by favoring that class. We address this later through class weights and careful evaluation (ROC AUC, precision, recall, F1) rather than accuracy alone."
   ]
  },
  {
   "cell_type": "code",
   "execution_count": 41,
   "id": "03b8dffd",
   "metadata": {},
   "outputs": [
    {
     "name": "stdout",
     "output_type": "stream",
     "text": [
      "Target counts:\n",
      " target\n",
      "0     86\n",
      "1    226\n",
      "Name: count, dtype: int64\n"
     ]
    },
    {
     "data": {
      "image/png": "[encoded data removed]",
      "text/plain": [
       "<Figure size 640x480 with 1 Axes>"
      ]
     },
     "metadata": {},
     "output_type": "display_data"
    }
   ],
   "source": [
    "# 4. Target distribution for women\n",
    "if \"target\" not in women.columns:\n",
    "    raise ValueError(\"Expected a 'target' column for the label.\")\n",
    "\n",
    "print(\"Target counts:\\n\", women[\"target\"].value_counts(dropna=False).sort_index())\n",
    "\n",
    "ax = women[\"target\"].value_counts().sort_index().plot(kind=\"bar\")\n",
    "ax.set_title(\"Heart disease label in women (0 no disease, 1 disease)\")\n",
    "ax.set_xlabel(\"target\")\n",
    "ax.set_ylabel(\"count\")\n",
    "plt.tight_layout()\n",
    "plt.show()"
   ]
  },
  {
   "cell_type": "markdown",
   "id": "8558ce02",
   "metadata": {},
   "source": [
    "## Data Analysis - Target distribution for women\n",
    "- Counts printed in your run: about **86 without disease** and **226 with disease**.\n",
    "- This is **class imbalance** toward the positive class."
   ]
  },
  {
   "cell_type": "markdown",
   "id": "2b690a3f",
   "metadata": {},
   "source": [
    "## 5. Quick EDA of numeric features\n",
    "- Summarizes numeric columns for women.\n",
    "- Computes correlations to `target`.\n",
    "- Plots distributions for key features and saves each figure.\n",
    "\n",
    "### Why it matters\n",
    "- Distributions tell us about potential outliers and skew that can affect models.\n",
    "- Clinical variables tied to exercise ECG (oldpeak, slope, exang, thalach) often carry strong predictive signal for ischemia. We expect them to matter in the model."
   ]
  },
  {
   "cell_type": "code",
   "execution_count": 42,
   "id": "c1c37199",
   "metadata": {},
   "outputs": [
    {
     "data": {
      "text/html": [
       "<div>\n",
       "<style scoped>\n",
       "    .dataframe tbody tr th:only-of-type {\n",
       "        vertical-align: middle;\n",
       "    }\n",
       "\n",
       "    .dataframe tbody tr th {\n",
       "        vertical-align: top;\n",
       "    }\n",
       "\n",
       "    .dataframe thead th {\n",
       "        text-align: right;\n",
       "    }\n",
       "</style>\n",
       "<table border=\"1\" class=\"dataframe\">\n",
       "  <thead>\n",
       "    <tr style=\"text-align: right;\">\n",
       "      <th></th>\n",
       "      <th>count</th>\n",
       "      <th>mean</th>\n",
       "      <th>std</th>\n",
       "      <th>min</th>\n",
       "      <th>25%</th>\n",
       "      <th>50%</th>\n",
       "      <th>75%</th>\n",
       "      <th>max</th>\n",
       "    </tr>\n",
       "  </thead>\n",
       "  <tbody>\n",
       "    <tr>\n",
       "      <th>age</th>\n",
       "      <td>312.0</td>\n",
       "      <td>55.849359</td>\n",
       "      <td>9.368127</td>\n",
       "      <td>34.0</td>\n",
       "      <td>50.00</td>\n",
       "      <td>57.0</td>\n",
       "      <td>63.0</td>\n",
       "      <td>76.0</td>\n",
       "    </tr>\n",
       "    <tr>\n",
       "      <th>sex</th>\n",
       "      <td>312.0</td>\n",
       "      <td>0.000000</td>\n",
       "      <td>0.000000</td>\n",
       "      <td>0.0</td>\n",
       "      <td>0.00</td>\n",
       "      <td>0.0</td>\n",
       "      <td>0.0</td>\n",
       "      <td>0.0</td>\n",
       "    </tr>\n",
       "    <tr>\n",
       "      <th>cp</th>\n",
       "      <td>312.0</td>\n",
       "      <td>1.006410</td>\n",
       "      <td>0.972264</td>\n",
       "      <td>0.0</td>\n",
       "      <td>0.00</td>\n",
       "      <td>1.0</td>\n",
       "      <td>2.0</td>\n",
       "      <td>3.0</td>\n",
       "    </tr>\n",
       "    <tr>\n",
       "      <th>trestbps</th>\n",
       "      <td>312.0</td>\n",
       "      <td>133.701923</td>\n",
       "      <td>19.581578</td>\n",
       "      <td>94.0</td>\n",
       "      <td>120.00</td>\n",
       "      <td>132.0</td>\n",
       "      <td>140.0</td>\n",
       "      <td>200.0</td>\n",
       "    </tr>\n",
       "    <tr>\n",
       "      <th>chol</th>\n",
       "      <td>312.0</td>\n",
       "      <td>261.455128</td>\n",
       "      <td>64.466781</td>\n",
       "      <td>141.0</td>\n",
       "      <td>215.00</td>\n",
       "      <td>254.0</td>\n",
       "      <td>302.0</td>\n",
       "      <td>564.0</td>\n",
       "    </tr>\n",
       "    <tr>\n",
       "      <th>fbs</th>\n",
       "      <td>312.0</td>\n",
       "      <td>0.134615</td>\n",
       "      <td>0.341861</td>\n",
       "      <td>0.0</td>\n",
       "      <td>0.00</td>\n",
       "      <td>0.0</td>\n",
       "      <td>0.0</td>\n",
       "      <td>1.0</td>\n",
       "    </tr>\n",
       "    <tr>\n",
       "      <th>restecg</th>\n",
       "      <td>312.0</td>\n",
       "      <td>0.573718</td>\n",
       "      <td>0.562220</td>\n",
       "      <td>0.0</td>\n",
       "      <td>0.00</td>\n",
       "      <td>1.0</td>\n",
       "      <td>1.0</td>\n",
       "      <td>2.0</td>\n",
       "    </tr>\n",
       "    <tr>\n",
       "      <th>thalach</th>\n",
       "      <td>312.0</td>\n",
       "      <td>150.830128</td>\n",
       "      <td>20.110946</td>\n",
       "      <td>96.0</td>\n",
       "      <td>138.75</td>\n",
       "      <td>155.5</td>\n",
       "      <td>165.0</td>\n",
       "      <td>192.0</td>\n",
       "    </tr>\n",
       "    <tr>\n",
       "      <th>exang</th>\n",
       "      <td>312.0</td>\n",
       "      <td>0.237179</td>\n",
       "      <td>0.426037</td>\n",
       "      <td>0.0</td>\n",
       "      <td>0.00</td>\n",
       "      <td>0.0</td>\n",
       "      <td>0.0</td>\n",
       "      <td>1.0</td>\n",
       "    </tr>\n",
       "    <tr>\n",
       "      <th>oldpeak</th>\n",
       "      <td>312.0</td>\n",
       "      <td>0.921154</td>\n",
       "      <td>1.142880</td>\n",
       "      <td>0.0</td>\n",
       "      <td>0.00</td>\n",
       "      <td>0.6</td>\n",
       "      <td>1.4</td>\n",
       "      <td>6.2</td>\n",
       "    </tr>\n",
       "    <tr>\n",
       "      <th>slope</th>\n",
       "      <td>312.0</td>\n",
       "      <td>1.410256</td>\n",
       "      <td>0.593337</td>\n",
       "      <td>0.0</td>\n",
       "      <td>1.00</td>\n",
       "      <td>1.0</td>\n",
       "      <td>2.0</td>\n",
       "      <td>2.0</td>\n",
       "    </tr>\n",
       "    <tr>\n",
       "      <th>ca</th>\n",
       "      <td>312.0</td>\n",
       "      <td>0.580128</td>\n",
       "      <td>0.896576</td>\n",
       "      <td>0.0</td>\n",
       "      <td>0.00</td>\n",
       "      <td>0.0</td>\n",
       "      <td>1.0</td>\n",
       "      <td>3.0</td>\n",
       "    </tr>\n",
       "    <tr>\n",
       "      <th>thal</th>\n",
       "      <td>312.0</td>\n",
       "      <td>2.137821</td>\n",
       "      <td>0.450344</td>\n",
       "      <td>0.0</td>\n",
       "      <td>2.00</td>\n",
       "      <td>2.0</td>\n",
       "      <td>2.0</td>\n",
       "      <td>3.0</td>\n",
       "    </tr>\n",
       "  </tbody>\n",
       "</table>\n",
       "</div>"
      ],
      "text/plain": [
       "          count        mean        std    min     25%    50%    75%    max\n",
       "age       312.0   55.849359   9.368127   34.0   50.00   57.0   63.0   76.0\n",
       "sex       312.0    0.000000   0.000000    0.0    0.00    0.0    0.0    0.0\n",
       "cp        312.0    1.006410   0.972264    0.0    0.00    1.0    2.0    3.0\n",
       "trestbps  312.0  133.701923  19.581578   94.0  120.00  132.0  140.0  200.0\n",
       "chol      312.0  261.455128  64.466781  141.0  215.00  254.0  302.0  564.0\n",
       "fbs       312.0    0.134615   0.341861    0.0    0.00    0.0    0.0    1.0\n",
       "restecg   312.0    0.573718   0.562220    0.0    0.00    1.0    1.0    2.0\n",
       "thalach   312.0  150.830128  20.110946   96.0  138.75  155.5  165.0  192.0\n",
       "exang     312.0    0.237179   0.426037    0.0    0.00    0.0    0.0    1.0\n",
       "oldpeak   312.0    0.921154   1.142880    0.0    0.00    0.6    1.4    6.2\n",
       "slope     312.0    1.410256   0.593337    0.0    1.00    1.0    2.0    2.0\n",
       "ca        312.0    0.580128   0.896576    0.0    0.00    0.0    1.0    3.0\n",
       "thal      312.0    2.137821   0.450344    0.0    2.00    2.0    2.0    3.0"
      ]
     },
     "metadata": {},
     "output_type": "display_data"
    },
    {
     "name": "stdout",
     "output_type": "stream",
     "text": [
      "Correlation with target:\n",
      " target      1.000000\n",
      "cp          0.528722\n",
      "slope       0.463540\n",
      "thalach     0.260568\n",
      "restecg     0.042678\n",
      "chol       -0.146422\n",
      "age        -0.211631\n",
      "fbs        -0.240064\n",
      "trestbps   -0.403454\n",
      "thal       -0.496903\n",
      "exang      -0.499202\n",
      "ca         -0.505706\n",
      "oldpeak    -0.516610\n",
      "sex              NaN\n",
      "Name: target, dtype: float64\n"
     ]
    },
    {
     "data": {
      "image/png": "[encoded data removed]",
      "text/plain": [
       "<Figure size 640x480 with 1 Axes>"
      ]
     },
     "metadata": {},
     "output_type": "display_data"
    },
    {
     "data": {
      "image/png": "[encoded data removed]",
      "text/plain": [
       "<Figure size 640x480 with 1 Axes>"
      ]
     },
     "metadata": {},
     "output_type": "display_data"
    },
    {
     "data": {
      "image/png": "[encoded data removed]",
      "text/plain": [
       "<Figure size 640x480 with 1 Axes>"
      ]
     },
     "metadata": {},
     "output_type": "display_data"
    },
    {
     "data": {
      "image/png": "[encoded data removed]",
      "text/plain": [
       "<Figure size 640x480 with 1 Axes>"
      ]
     },
     "metadata": {},
     "output_type": "display_data"
    },
    {
     "data": {
      "image/png": "[encoded data removed]",
      "text/plain": [
       "<Figure size 640x480 with 1 Axes>"
      ]
     },
     "metadata": {},
     "output_type": "display_data"
    }
   ],
   "source": [
    "# 5. Quick EDA of numeric features (and save a few histograms)\n",
    "Path(\"../results/figures\").mkdir(parents=True, exist_ok=True)\n",
    "\n",
    "num_cols = women.select_dtypes(include=[np.number]).columns.tolist()\n",
    "num_cols = [c for c in num_cols if c != \"target\"]\n",
    "\n",
    "display(women[num_cols].describe().T)\n",
    "\n",
    "corrs = women[num_cols + [\"target\"]].corr(numeric_only=True)[\"target\"].sort_values(ascending=False)\n",
    "print(\"Correlation with target:\\n\", corrs)\n",
    "\n",
    "for col in [\"age\", \"chol\", \"trestbps\", \"thalach\", \"oldpeak\"]:\n",
    "    if col in women.columns:\n",
    "        women[col].hist(bins=30)\n",
    "        plt.title(f\"Distribution of {col} in women\")\n",
    "        plt.xlabel(col)\n",
    "        plt.ylabel(\"count\")\n",
    "        plt.tight_layout()\n",
    "        plt.savefig(f\"../results/figures/dist_{col}.png\", dpi=150)\n",
    "        plt.show()\n"
   ]
  },
  {
   "cell_type": "markdown",
   "id": "07c09a29",
   "metadata": {},
   "source": [
    "## Data Analysis - EDA of numeric features\n",
    "- **Age**: most women are between 50 and 65, with a spike near 60 to 62. Very few are below 40 or above 72.\n",
    "- **Cholesterol**: most values sit between 200 and 300 mg/dL, with a few very high outliers above 400.\n",
    "- **Oldpeak** (ST depression): many zeros, long right tail up to about 6.\n",
    "- **Thalach** (max heart rate): cluster around 150 to 170 bpm, low values are less common.\n",
    "- **Trestbps** (resting BP): many between 120 and 140 mmHg, some extreme values.\n"
   ]
  },
  {
   "cell_type": "markdown",
   "id": "8786a394",
   "metadata": {},
   "source": [
    "## 6. Train/test split and preprocessing pipeline\n",
    "- Splits into train and test with stratification to preserve class ratios.\n",
    "- Builds preprocessing:\n",
    "  - Median imputation for missing numeric values.\n",
    "  - Standard scaling for models that benefit from normalized input.\n",
    "\n",
    "### Why it matters\n",
    "- A separate test set is required for an honest estimate of performance.\n",
    "- Imputation prevents row loss and lets models use all available records.\n",
    "- Scaling helps linear models converge and keeps coefficients stable."
   ]
  },
  {
   "cell_type": "code",
   "execution_count": 43,
   "id": "28b9af0d",
   "metadata": {},
   "outputs": [
    {
     "data": {
      "text/plain": [
       "((234, 13), (78, 13))"
      ]
     },
     "execution_count": 43,
     "metadata": {},
     "output_type": "execute_result"
    }
   ],
   "source": [
    "# 6. Train/test split and preprocessing pipeline\n",
    "from sklearn.model_selection import train_test_split\n",
    "from sklearn.compose import ColumnTransformer\n",
    "from sklearn.pipeline import Pipeline\n",
    "from sklearn.preprocessing import StandardScaler\n",
    "from sklearn.impute import SimpleImputer\n",
    "\n",
    "y = women[\"target\"].astype(int)\n",
    "X = women.drop(columns=[\"target\"])\n",
    "\n",
    "num_features = X.select_dtypes(include=[np.number]).columns.tolist()\n",
    "\n",
    "preprocess = ColumnTransformer(\n",
    "    transformers=[\n",
    "        (\"num\", Pipeline([\n",
    "            (\"imputer\", SimpleImputer(strategy=\"median\")),\n",
    "            (\"scaler\", StandardScaler())\n",
    "        ]), num_features),\n",
    "    ],\n",
    "    remainder=\"drop\",\n",
    ")\n",
    "\n",
    "X_train, X_test, y_train, y_test = train_test_split(\n",
    "    X, y, test_size=0.25, random_state=42, stratify=y\n",
    ")\n",
    "\n",
    "X_train.shape, X_test.shape\n"
   ]
  },
  {
   "cell_type": "markdown",
   "id": "72e0f549",
   "metadata": {},
   "source": [
    "## 7. Logistic regression baseline\n",
    "- Trains a logistic regression model with class weights to reduce imbalance bias.\n",
    "- Reports precision, recall, F1 for each class, and ROC AUC.\n",
    "- Saves a ROC curve image.\n",
    "\n",
    "### Why it matters\n",
    "- Logistic regression provides a clear, interpretable baseline that often performs well on clinical tabular data.\n",
    "\n",
    "### How Logistic Regression Works\n",
    "  - A simple, interpretable model that estimates the probability of heart disease using a weighted combination of features.\n",
    "  - Best for understanding *which* factors matter most and the *direction* of their effect.\n",
    "  - Assumes linear relationships between predictors and the log-odds of the outcome."
   ]
  },
  {
   "cell_type": "code",
   "execution_count": 44,
   "id": "f870248a",
   "metadata": {},
   "outputs": [
    {
     "name": "stdout",
     "output_type": "stream",
     "text": [
      "Logistic Regression\n",
      "              precision    recall  f1-score   support\n",
      "\n",
      "           0      0.808     0.955     0.875        22\n",
      "           1      0.981     0.911     0.944        56\n",
      "\n",
      "    accuracy                          0.923        78\n",
      "   macro avg      0.894     0.933     0.910        78\n",
      "weighted avg      0.932     0.923     0.925        78\n",
      "\n",
      "ROC AUC: 0.9821428571428572\n",
      "Confusion matrix:\n",
      " [[21  1]\n",
      " [ 5 51]]\n"
     ]
    },
    {
     "data": {
      "image/png": "[encoded data removed]",
      "text/plain": [
       "<Figure size 640x480 with 1 Axes>"
      ]
     },
     "metadata": {},
     "output_type": "display_data"
    }
   ],
   "source": [
    "# 7. Logistic regression baseline (with metrics + ROC plot)\n",
    "from sklearn.linear_model import LogisticRegression\n",
    "from sklearn.metrics import classification_report, roc_auc_score, RocCurveDisplay, confusion_matrix\n",
    "import matplotlib.pyplot as plt\n",
    "from pathlib import Path\n",
    "\n",
    "Path(\"../results/figures\").mkdir(parents=True, exist_ok=True)\n",
    "\n",
    "logit = Pipeline(steps=[\n",
    "    (\"prep\", preprocess),\n",
    "    (\"clf\", LogisticRegression(max_iter=2000, class_weight=\"balanced\", random_state=42))\n",
    "])\n",
    "\n",
    "logit.fit(X_train, y_train)\n",
    "y_pred = logit.predict(X_test)\n",
    "y_prob = logit.predict_proba(X_test)[:, 1]\n",
    "\n",
    "print(\"Logistic Regression\")\n",
    "print(classification_report(y_test, y_pred, digits=3))\n",
    "print(\"ROC AUC:\", roc_auc_score(y_test, y_prob))\n",
    "print(\"Confusion matrix:\\n\", confusion_matrix(y_test, y_pred))\n",
    "\n",
    "RocCurveDisplay.from_predictions(y_test, y_prob)\n",
    "plt.title(\"ROC curve — logistic regression (women)\")\n",
    "plt.tight_layout()\n",
    "plt.savefig(\"../results/figures/roc_logit_women.png\", dpi=150)\n",
    "plt.show()\n"
   ]
  },
  {
   "cell_type": "markdown",
   "id": "67ecde4a",
   "metadata": {},
   "source": [
    "## Data Analysis - Logistic regression baseline\n",
    "- **ROC AUC ≈ 0.98**, which is very strong separation on the test set.\n",
    "- Confusion matrix and the report show high sensitivity and specificity.\n",
    "- ROC AUC near 1.0 suggests features such as chest pain type and exercise ECG markers separate classes strongly in this dataset."
   ]
  },
  {
   "cell_type": "markdown",
   "id": "4d8d5548",
   "metadata": {},
   "source": [
    "## 8. Random forest baseline\n",
    "- Trains a random forest with class weights and median imputation.\n",
    "- Reports metrics and plots a ROC curve.\n",
    "\n",
    "### Why it matters\n",
    "- This indicates the features are highly informative for this sample.\n",
    "- It also means we should validate carefully to reduce the chance of optimistic estimates:\n",
    "  - Use stratified cross-validation.\n",
    "  - Try different random seeds.\n",
    "  - Consider a simpler model or regularization to test robustness.\n",
    "\n",
    "### How Random Forest Works\n",
    "  - An ensemble method that builds many decision trees and averages their predictions for better accuracy.\n",
    "  - Captures complex, non-linear relationships and interactions between features.\n",
    "  - Less interpretable than logistic regression, but often more powerful in prediction."
   ]
  },
  {
   "cell_type": "code",
   "execution_count": 45,
   "id": "fc55a53f",
   "metadata": {},
   "outputs": [
    {
     "name": "stdout",
     "output_type": "stream",
     "text": [
      "Random Forest\n",
      "              precision    recall  f1-score   support\n",
      "\n",
      "           0      1.000     1.000     1.000        22\n",
      "           1      1.000     1.000     1.000        56\n",
      "\n",
      "    accuracy                          1.000        78\n",
      "   macro avg      1.000     1.000     1.000        78\n",
      "weighted avg      1.000     1.000     1.000        78\n",
      "\n",
      "ROC AUC: 1.0\n"
     ]
    },
    {
     "data": {
      "image/png": "[encoded data removed]",
      "text/plain": [
       "<Figure size 640x480 with 1 Axes>"
      ]
     },
     "metadata": {},
     "output_type": "display_data"
    }
   ],
   "source": [
    "# 8. Random forest baseline (with metrics + ROC plot)\n",
    "from sklearn.ensemble import RandomForestClassifier\n",
    "from sklearn.impute import SimpleImputer\n",
    "from sklearn.compose import ColumnTransformer\n",
    "from sklearn.pipeline import Pipeline\n",
    "from sklearn.metrics import classification_report, roc_auc_score, RocCurveDisplay\n",
    "\n",
    "# RF: impute only (no scaling needed)\n",
    "rf_prep = ColumnTransformer(\n",
    "    transformers=[\n",
    "        (\"num\", SimpleImputer(strategy=\"median\"), num_features),\n",
    "    ],\n",
    "    remainder=\"drop\",\n",
    ")\n",
    "\n",
    "rf = Pipeline(steps=[\n",
    "    (\"prep\", rf_prep),\n",
    "    (\"clf\", RandomForestClassifier(\n",
    "        n_estimators=400,\n",
    "        min_samples_split=4,\n",
    "        class_weight=\"balanced\",\n",
    "        random_state=42,\n",
    "        n_jobs=-1\n",
    "    ))\n",
    "])\n",
    "\n",
    "rf.fit(X_train, y_train)\n",
    "y_pred_rf = rf.predict(X_test)\n",
    "y_prob_rf = rf.predict_proba(X_test)[:, 1]\n",
    "\n",
    "print(\"Random Forest\")\n",
    "print(classification_report(y_test, y_pred_rf, digits=3))\n",
    "print(\"ROC AUC:\", roc_auc_score(y_test, y_prob_rf))\n",
    "\n",
    "RocCurveDisplay.from_predictions(y_test, y_prob_rf)\n",
    "plt.title(\"ROC curve — random forest (women)\")\n",
    "plt.tight_layout()\n",
    "plt.savefig(\"../results/figures/roc_rf_women.png\", dpi=150)\n",
    "plt.show()\n"
   ]
  },
  {
   "cell_type": "markdown",
   "id": "56f855bc",
   "metadata": {},
   "source": [
    "## Data Analysis - Random forest baseline\n",
    "- **ROC AUC = 1.00** on this split, which is perfect classification.\n",
    "- This can happen on small datasets when signal is very strong or the particular split is easy."
   ]
  },
  {
   "cell_type": "markdown",
   "id": "12049892",
   "metadata": {},
   "source": [
    "## 9. Feature importances for RF\n",
    "- Extracts random forest importances and plots the top features.\n"
   ]
  },
  {
   "cell_type": "code",
   "execution_count": 46,
   "id": "e03eae80",
   "metadata": {},
   "outputs": [
    {
     "data": {
      "text/plain": [
       "cp          0.171048\n",
       "age         0.154723\n",
       "oldpeak     0.096295\n",
       "exang       0.092833\n",
       "slope       0.084203\n",
       "trestbps    0.079699\n",
       "chol        0.079335\n",
       "thal        0.071811\n",
       "thalach     0.070945\n",
       "ca          0.069771\n",
       "restecg     0.021890\n",
       "fbs         0.007446\n",
       "sex         0.000000\n",
       "dtype: float64"
      ]
     },
     "metadata": {},
     "output_type": "display_data"
    },
    {
     "data": {
      "image/png": "[encoded data removed]",
      "text/plain": [
       "<Figure size 640x480 with 1 Axes>"
      ]
     },
     "metadata": {},
     "output_type": "display_data"
    }
   ],
   "source": [
    "# 9. Feature importances for RF (top 15 bar chart)\n",
    "import pandas as pd\n",
    "import matplotlib.pyplot as plt\n",
    "from pathlib import Path\n",
    "\n",
    "Path(\"../results/figures\").mkdir(parents=True, exist_ok=True)\n",
    "\n",
    "rf_feature_names = num_features  # rf_prep passes only numeric columns\n",
    "importances = rf.named_steps[\"clf\"].feature_importances_\n",
    "imp_series = pd.Series(importances, index=rf_feature_names).sort_values(ascending=False)\n",
    "\n",
    "display(imp_series.head(15))\n",
    "\n",
    "ax = imp_series.head(15).plot(kind=\"bar\")\n",
    "ax.set_title(\"Top feature importances — random forest\")\n",
    "ax.set_ylabel(\"importance\")\n",
    "plt.tight_layout()\n",
    "plt.savefig(\"../results/figures/feat_importances_rf_women.png\", dpi=150)\n",
    "plt.show()\n"
   ]
  },
  {
   "cell_type": "markdown",
   "id": "35b1fbb6",
   "metadata": {},
   "source": [
    "## Data Analysis - Feature importances for RF\n",
    "Top predictors include:\n",
    "1. **cp** (chest pain type)\n",
    "2. **age**\n",
    "3. **oldpeak**\n",
    "4. **exang** (exercise-induced angina)\n",
    "5. **slope** (slope of the ST segment)\n",
    "Then **trestbps**, **chol**, **thal**, **thalach**, **ca** follow.\n",
    "\n",
    "### Why it matters\n",
    "- Exercise ECG features and symptom presentation dominate, which aligns with clinical expectations for ischemia detection.\n",
    "- Cholesterol and blood pressure still contribute but rank behind exercise-related markers.\n",
    "- Since all records are women, **sex** drops to the bottom, which is expected."
   ]
  },
  {
   "cell_type": "markdown",
   "id": "16ca4a62",
   "metadata": {},
   "source": [
    "## 10. Save trained models\n",
    "- Saves the logistic regression and random forest pipelines to `../results/models`.\n",
    "- Can reload these files for later evaluation, inference, or to power a small app without retraining."
   ]
  },
  {
   "cell_type": "code",
   "execution_count": 47,
   "id": "fd0e777d",
   "metadata": {},
   "outputs": [
    {
     "name": "stdout",
     "output_type": "stream",
     "text": [
      "Saved models to ../results/models\n"
     ]
    }
   ],
   "source": [
    "# 10. Save trained models\n",
    "from pathlib import Path\n",
    "import joblib\n",
    "\n",
    "Path(\"../results/models\").mkdir(parents=True, exist_ok=True)\n",
    "\n",
    "joblib.dump(logit, \"../results/models/logit_women.joblib\")\n",
    "joblib.dump(rf, \"../results/models/rf_women.joblib\")\n",
    "\n",
    "print(\"Saved models to ../results/models\")\n"
   ]
  },
  {
   "cell_type": "markdown",
   "id": "a0dbeeb6",
   "metadata": {},
   "source": [
    "# Heart Health Analysis – Final Summary\n",
    "\n",
    "This project explored the **Heart Disease dataset** to identify patterns, trends, and predictive factors related to cardiovascular health. Through exploratory data analysis (EDA), statistical visualizations, and machine learning modeling, we derived key insights about which factors are most associated with heart disease risk.\n",
    "\n",
    "---\n",
    "\n",
    "## 1. Key Findings from the Data\n",
    "- **Demographic Trends**  \n",
    "  - Heart disease prevalence increases notably with age.  \n",
    "  - Men tend to show higher rates of heart disease compared to women in this dataset.\n",
    "\n",
    "- **Clinical Measurements**  \n",
    "  - Higher **resting blood pressure** and **cholesterol** levels were more common among those with heart disease.  \n",
    "  - Lower **maximum heart rate achieved** (thalach) is strongly correlated with heart disease presence.\n",
    "\n",
    "- **ST Depression (Oldpeak)**  \n",
    "  - Elevated ST depression values, which indicate exercise-induced changes in the ECG, are more frequent in heart disease cases.\n",
    "\n",
    "---\n",
    "\n",
    "## 2. Feature Importance (Women Subset)\n",
    "Using a **Random Forest model** specifically for female patients:\n",
    "- **Oldpeak**, **maximum heart rate**, and **chest pain type** were top predictors.\n",
    "- This highlights that exercise-related heart performance may be especially significant for detecting heart disease in women.\n",
    "\n",
    "---\n",
    "\n",
    "## 3. Model Performance\n",
    "Two models were compared for women in the dataset:\n",
    "- **Logistic Regression**: Provided interpretable results with moderate accuracy.  \n",
    "- **Random Forest**: Showed higher predictive performance, capturing complex non-linear relationships.\n",
    "\n",
    "ROC curve analysis confirmed that **Random Forest outperformed Logistic Regression**, suggesting that more complex models can better handle interactions between health metrics.\n",
    "\n",
    "---\n",
    "\n",
    "## 4. Overall Interpretation\n",
    "The analysis shows that:\n",
    "- **Exercise-related metrics** (max heart rate, ST depression) and **baseline health indicators** (cholesterol, blood pressure) are critical in predicting heart disease.\n",
    "- Gender-specific analysis can uncover different patterns, underscoring the importance of tailored healthcare screening.\n",
    "- Machine learning models, when combined with medical expertise, can help prioritize patients for further screening and preventive interventions.\n",
    "\n",
    "---\n",
    "\n",
    "## 5. Next Steps\n",
    "Future work could include:\n",
    "- Expanding analysis to more balanced datasets to avoid bias.\n",
    "- Incorporating lifestyle and genetic data for richer predictive modeling.\n",
    "- Building an interactive dashboard to assist healthcare professionals in real-time risk assessment.\n"
   ]
  }
 ],
 "metadata": {
  "kernelspec": {
   "display_name": "base",
   "language": "python",
   "name": "python3"
  },
  "language_info": {
   "codemirror_mode": {
    "name": "ipython",
    "version": 3
   },
   "file_extension": ".py",
   "mimetype": "text/x-python",
   "name": "python",
   "nbconvert_exporter": "python",
   "pygments_lexer": "ipython3",
   "version": "3.11.5"
  }
 },
 "nbformat": 4,
 "nbformat_minor": 5
}
